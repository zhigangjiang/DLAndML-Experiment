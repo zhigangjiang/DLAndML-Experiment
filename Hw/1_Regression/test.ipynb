{
 "cells": [
  {
   "cell_type": "code",
   "execution_count": 7,
   "metadata": {},
   "outputs": [],
   "source": [
    "import numpy as np\n",
    "import matplotlib.pyplot as plt"
   ]
  },
  {
   "cell_type": "markdown",
   "metadata": {},
   "source": [
    "if  $y = 2 + 0.5x$"
   ]
  },
  {
   "cell_type": "code",
   "execution_count": 138,
   "metadata": {},
   "outputs": [],
   "source": [
    "def load_dataset(n):\n",
    "    k = 0.5\n",
    "    b = 20\n",
    "    noise = np.random.rand(n)\n",
    "    X = [x for x in range(n)]\n",
    "    y = [(k * X[i]  + b + noise[i]) for i in range(n)]\n",
    "    return np.array(X).T, np.array(y).T"
   ]
  },
  {
   "cell_type": "code",
   "execution_count": 139,
   "metadata": {},
   "outputs": [
    {
     "data": {
      "text/plain": [
       "<matplotlib.collections.PathCollection at 0x7f619f9a5a10>"
      ]
     },
     "execution_count": 139,
     "metadata": {},
     "output_type": "execute_result"
    },
    {
     "data": {
      "image/png": "[encoded data removed]",
      "text/plain": [
       "<Figure size 432x288 with 1 Axes>"
      ]
     },
     "metadata": {
      "needs_background": "light"
     },
     "output_type": "display_data"
    }
   ],
   "source": [
    "x, y = load_dataset(20)\n",
    "plt.ylim(0, 50)\n",
    "plt.xlim(0, 20)\n",
    "plt.scatter(x, y)"
   ]
  },
  {
   "cell_type": "markdown",
   "metadata": {},
   "source": [
    "假设损失函数\n",
    "\n",
    "$loss(w) = \\frac{1}{2m}\\sum_{i=1}^m(w_1 + w_2 x_i - y_i)^2$\n",
    "\n",
    "先对$w_1$求偏导\n",
    "\n",
    "$w_1 = w_1 - \\alpha \\frac{1}{m} \\sum_{i=1}^m(w_1 + w_2 x_i - y_i)$\n",
    "\n",
    "对$w_2$求偏导\n",
    "\n",
    "$w_2 = w_2 - \\alpha \\frac{1}{m} \\sum_{i=1}^m(w_1 + w_2 x_i - y_i)x_i$\n",
    "\n",
    "程序计算时，求每次的\n",
    "\n",
    "$\\frac{1}{m} \\sum_{i=1}^m(w_1 + w_2 x_i - y_i)$"
   ]
  },
  {
   "cell_type": "code",
   "execution_count": null,
   "metadata": {},
   "outputs": [],
   "source": []
  },
  {
   "cell_type": "code",
   "execution_count": 140,
   "metadata": {},
   "outputs": [],
   "source": [
    "def calc_loss(x,y,w1,w2):\n",
    "    J = 0\n",
    "    for i in range(len(x)):\n",
    "        mse = (w1 + x[i]*w2 -y[i])**2\n",
    "        J += mse\n",
    "    return J / (2*len(x))"
   ]
  },
  {
   "cell_type": "code",
   "execution_count": 141,
   "metadata": {},
   "outputs": [],
   "source": [
    "loss = 10000000000\n",
    "min_loss = 0.0001\n",
    "w1 = 0;\n",
    "w2 = 0;\n",
    "m = len(x)\n",
    "alpha = 0.1 # 学习率\n",
    "max_itc = 100000\n",
    "itc = 0\n",
    "loss = calc_loss(x, y , w1, w2)\n",
    "loss_pre = loss  + min_loss+ 1\n",
    "loss_array = [loss]\n",
    "while abs(loss - loss_pre) > min_loss and itc < max_itc:\n",
    "    # g1\n",
    "    g1 = 0\n",
    "    for i in range(m):\n",
    "        g1 = g1 + w1 + w2 * x[i]  - y[i]\n",
    "    g1 = g1 / m\n",
    "    w1_ = w1 - alpha * g1\n",
    "#     print(w1_)\n",
    "    \n",
    "     # g2\n",
    "    g2 = 0\n",
    "    for i in range(m):\n",
    "        g2 = g2 = (w1  + w2 * x[i]  - y[i]) * x[i]\n",
    "    g2 = g2 / m\n",
    "    w2_ = w2 - alpha * g2\n",
    "    \n",
    "    w1 = w1_\n",
    "    w2 = w2_\n",
    "    \n",
    "    #loss\n",
    "    loss_pre = loss\n",
    "    loss = calc_loss(x, y , w1, w2)\n",
    "    loss_array.append(loss)\n",
    "#     print(loss)\n",
    "    itc += 1"
   ]
  },
  {
   "cell_type": "code",
   "execution_count": 115,
   "metadata": {},
   "outputs": [],
   "source": [
    "# loss_array"
   ]
  },
  {
   "cell_type": "code",
   "execution_count": 142,
   "metadata": {},
   "outputs": [
    {
     "data": {
      "text/plain": [
       "[<matplotlib.lines.Line2D at 0x7f619f879350>]"
      ]
     },
     "execution_count": 142,
     "metadata": {},
     "output_type": "execute_result"
    },
    {
     "data": {
      "image/png": "[encoded data removed]",
      "text/plain": [
       "<Figure size 432x288 with 1 Axes>"
      ]
     },
     "metadata": {
      "needs_background": "light"
     },
     "output_type": "display_data"
    }
   ],
   "source": [
    "plt.plot(range(len(loss_array)), loss_array)"
   ]
  },
  {
   "cell_type": "code",
   "execution_count": 148,
   "metadata": {},
   "outputs": [
    {
     "data": {
      "text/plain": [
       "(20.683619269764357, 0.4669721730697502)"
      ]
     },
     "execution_count": 148,
     "metadata": {},
     "output_type": "execute_result"
    }
   ],
   "source": [
    "w1, w2"
   ]
  }
 ],
 "metadata": {
  "kernelspec": {
   "display_name": "DataMining",
   "language": "python",
   "name": "datamining"
  },
  "language_info": {
   "codemirror_mode": {
    "name": "ipython",
    "version": 3
   },
   "file_extension": ".py",
   "mimetype": "text/x-python",
   "name": "python",
   "nbconvert_exporter": "python",
   "pygments_lexer": "ipython3",
   "version": "3.7.7"
  }
 },
 "nbformat": 4,
 "nbformat_minor": 4
}
